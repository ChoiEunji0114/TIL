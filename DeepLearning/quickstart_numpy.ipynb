{
 "cells": [
  {
   "cell_type": "code",
   "execution_count": 3,
   "metadata": {},
   "outputs": [
    {
     "name": "stdout",
     "output_type": "stream",
     "text": [
      "[[ 0  1  2  3  4]\n",
      " [ 5  6  7  8  9]\n",
      " [10 11 12 13 14]]\n",
      "2\n",
      "int64\n",
      "8\n",
      "15\n",
      "<class 'numpy.ndarray'>\n",
      "\n",
      "\n",
      "[6 7 8]\n",
      "<class 'numpy.ndarray'>\n"
     ]
    }
   ],
   "source": [
    "import numpy as np\n",
    "# Numpy : c언어로 구현된 파이썬 라이브러리 (Numercial Python)\n",
    "\n",
    "a = np.arange(15).reshape(3,5) \n",
    "# arange : 0(처음포함) ~ 14(끝 값 15는 미 포함)\n",
    "# reshape(n,m) : n row, m column\n",
    "\n",
    "print(a) \n",
    "print(a.ndim) # 2\n",
    "# 배열의 axes 갯수 리턴\n",
    "\n",
    "print(a.dtype.name) # int64\n",
    "# data type 리턴\n",
    "\n",
    "print(a.itemsize) # 8\n",
    "\n",
    "print(a.size) # 15\n",
    "# 배열 요소의 갯수\n",
    "\n",
    "print(type(a)) # <class 'numpy.ndarray'>\n",
    "\n",
    "print('\\n')\n",
    "b = np.array([6,7,8])\n",
    "\n",
    "print(b)\n",
    "print(type(b)) # <class 'numpy.ndarray'>"
   ]
  },
  {
   "cell_type": "code",
   "execution_count": 4,
   "metadata": {},
   "outputs": [
    {
     "name": "stdout",
     "output_type": "stream",
     "text": [
      "[[1.+0.j 2.+0.j]\n",
      " [3.+0.j 4.+0.j]]\n"
     ]
    }
   ],
   "source": [
    "import numpy as np\n",
    "\n",
    "c = np.array([[1,2], [3,4]], dtype=complex)\n",
    "print(c)\n",
    "\n",
    "# data type을 complex(복소수) 형태로 지정했다."
   ]
  },
  {
   "cell_type": "code",
   "execution_count": 8,
   "metadata": {},
   "outputs": [
    {
     "name": "stdout",
     "output_type": "stream",
     "text": [
      "[[0. 0. 0. 0.]\n",
      " [0. 0. 0. 0.]\n",
      " [0. 0. 0. 0.]]\n",
      "[[[1 1 1 1]\n",
      "  [1 1 1 1]\n",
      "  [1 1 1 1]]\n",
      "\n",
      " [[1 1 1 1]\n",
      "  [1 1 1 1]\n",
      "  [1 1 1 1]]]\n",
      "[[1.39069238e-309 1.39069238e-309 1.39069238e-309]\n",
      " [1.39069238e-309 1.39069238e-309 1.39069238e-309]]\n"
     ]
    }
   ],
   "source": [
    "import numpy as np\n",
    "\n",
    "print(np.zeros((3,4))) # 모든 element가 0인 (3,4) 2d array\n",
    "\n",
    "print(np.ones((2,3,4), dtype=np.int16)) \n",
    "# 모든 element가 1인 (2,3,4) 3d array. data type도 지정이 가능하다.\n",
    "\n",
    "print(np.empty((2,3)))\n",
    "# 초기화하지 않은 (2,3) 2dd array"
   ]
  },
  {
   "cell_type": "code",
   "execution_count": 19,
   "metadata": {},
   "outputs": [
    {
     "name": "stdout",
     "output_type": "stream",
     "text": [
      "[0.   0.25 0.5  0.75 1.   1.25 1.5  1.75 2.  ]\n"
     ]
    }
   ],
   "source": [
    "import numpy as np\n",
    "from numpy import pi\n",
    "\n",
    "print(np.linspace(0,2,9)) # 9 numbers from 0 to 2\n",
    "\n",
    "# x = np.linspace( 0, 2*pi, 100 )  \n",
    "# print(x)\n",
    "\n",
    "# f = np.sin(x)\n",
    "# print(f)"
   ]
  },
  {
   "cell_type": "code",
   "execution_count": 22,
   "metadata": {},
   "outputs": [
    {
     "name": "stdout",
     "output_type": "stream",
     "text": [
      "[10 19 28 37]\n",
      "[0 1 4 9]\n"
     ]
    }
   ],
   "source": [
    "import numpy as np\n",
    "\n",
    "a = np.array([10,20,30,40]) # [10 20 30 40]\n",
    "b = np.arange(4) # [0 1 2 3]\n",
    "\n",
    "c = a - b\n",
    "print(c) # [10 19 28 37]\n",
    "\n",
    "print(b**2) # 제곱\n",
    "# [0 1 4 9]"
   ]
  },
  {
   "cell_type": "code",
   "execution_count": 27,
   "metadata": {},
   "outputs": [
    {
     "name": "stdout",
     "output_type": "stream",
     "text": [
      "[[2 0]\n",
      " [0 4]]\n",
      "[[5 4]\n",
      " [3 4]]\n",
      "[[5 4]\n",
      " [3 4]]\n"
     ]
    }
   ],
   "source": [
    "import numpy as np\n",
    "\n",
    "A = np.array([[1,1],\n",
    "                     [0,1]])\n",
    "B = np.array([[2,0],\n",
    "                     [3,4]])\n",
    "\n",
    "print(A*B) # 단순 곱하기\n",
    "print(A@B) # 행렬 곱하기\n",
    "print(A.dot(B)) # 행렬 곱하기"
   ]
  },
  {
   "cell_type": "code",
   "execution_count": 4,
   "metadata": {},
   "outputs": [
    {
     "name": "stdout",
     "output_type": "stream",
     "text": [
      "float64\n",
      "float64\n",
      "complex128\n"
     ]
    }
   ],
   "source": [
    "import numpy as np\n",
    "from numpy import pi\n",
    "\n",
    "a = np.ones(3, dtype=np.int32)\n",
    "b = np.linspace(0, pi, 3)\n",
    "print(b.dtype.name) # float64 (upcasting)\n",
    "\n",
    "c = a+b\n",
    "print(c.dtype.name) # float64\n",
    "\n",
    "d = np.exp(c*1j)\n",
    "print(d.dtype.name) #complex128"
   ]
  },
  {
   "cell_type": "code",
   "execution_count": 13,
   "metadata": {},
   "outputs": [
    {
     "name": "stdout",
     "output_type": "stream",
     "text": [
      "66\n",
      "[12 15 18 21]\n",
      "[ 6 22 38]\n",
      "[[ 0  1  2  3]\n",
      " [ 4  6  8 10]\n",
      " [12 15 18 21]]\n"
     ]
    }
   ],
   "source": [
    "import numpy as np\n",
    "\n",
    "b = np.arange(12).reshape(3,4)\n",
    "# [[0,1,2,3],\n",
    "# [4,5,6,7],\n",
    "# [8,9,10,11]]\n",
    "\n",
    "\n",
    "print(b.sum()) # 전체 합\n",
    "print(b.sum(axis=0)) # sum of each column (axis=0)\n",
    "print(b.sum(axis=1)) # sum of each row (axis=1)\n",
    "\n",
    "print(b.cumsum(axis=0)) # sum of cumulative sum "
   ]
  },
  {
   "cell_type": "code",
   "execution_count": 16,
   "metadata": {},
   "outputs": [
    {
     "name": "stdout",
     "output_type": "stream",
     "text": [
      "[1.         2.71828183 7.3890561 ]\n",
      "[0.         1.         1.41421356]\n"
     ]
    }
   ],
   "source": [
    "import numpy as np\n",
    "\n",
    "B = np.arange(3) # [0,1,2]\n",
    "\n",
    "print(np.exp(B)) # 지수\n",
    "print(np.sqrt(B)) # 제곱근"
   ]
  },
  {
   "cell_type": "code",
   "execution_count": 26,
   "metadata": {},
   "outputs": [
    {
     "name": "stdout",
     "output_type": "stream",
     "text": [
      "[  0   1   8  27  64 125 216 343 512 729]\n",
      "[ 8 27 64]\n",
      "[1000    1 1000   27 1000  125  216  343  512  729]\n",
      "[ 729  512  343  216  125 1000   27 1000    1 1000]\n"
     ]
    }
   ],
   "source": [
    "import numpy as np\n",
    "\n",
    "a = np.arange(10)**3\n",
    "print(a) # [0 1 8 27 64 125 216 343 512 729]\n",
    "print(a[2:5]) # [8 27 64]\n",
    "\n",
    "a[:6:2] = 1000\n",
    "# a[0:6:2] = 1000 과 동일\n",
    "# 0부터 6번째 까지 2번째 원소를 1000 으로 바꿈\n",
    "print(a) # [1000 1 1000 27 1000 125 216 343 512 729]\n",
    "\n",
    "# reversed\n",
    "print(a[: : -1]) # [729 512 343 216 125 1000 27 1000 1 1000] "
   ]
  },
  {
   "cell_type": "code",
   "execution_count": 40,
   "metadata": {},
   "outputs": [
    {
     "name": "stdout",
     "output_type": "stream",
     "text": [
      "[[ 0  1  2  3]\n",
      " [10 11 12 13]\n",
      " [20 21 22 23]\n",
      " [30 31 32 33]\n",
      " [40 41 42 43]]\n",
      "23\n",
      "[ 1 11 21 31 41]\n",
      "[ 1 11 21 31 41]\n",
      "[[10 11 12 13]\n",
      " [20 21 22 23]]\n",
      "[40 41 42 43]\n",
      "\n",
      "\n",
      "[0 1 2 3]\n",
      "[10 11 12 13]\n",
      "[20 21 22 23]\n",
      "[30 31 32 33]\n",
      "[40 41 42 43]\n",
      "\n",
      "\n",
      "0\n",
      "1\n",
      "2\n",
      "3\n",
      "10\n",
      "11\n",
      "12\n",
      "13\n",
      "20\n",
      "21\n",
      "22\n",
      "23\n",
      "30\n",
      "31\n",
      "32\n",
      "33\n",
      "40\n",
      "41\n",
      "42\n",
      "43\n"
     ]
    }
   ],
   "source": [
    "import numpy as np\n",
    "\n",
    "def f(x,y):\n",
    "    return 10*x+y\n",
    "\n",
    "b = np.fromfunction(f, (5,4), dtype=int)\n",
    "print(b)\n",
    "# [[ 0  1  2  3]\n",
    "#  [10 11 12 13]\n",
    "#  [20 21 22 23]\n",
    "#  [30 31 32 33]\n",
    "#  [40 41 42 43]]\n",
    "\n",
    "\n",
    "print(b[2,3]) # 23\n",
    "print(b[0:5,1]) # [1 11 21 31 41]\n",
    "print(b[ : , 1]) # [1 11 21 31 41]\n",
    "print(b[1:3, :]) # [[10 11 12 13] [20 21 22 23]]\n",
    "print(b[-1]) # last row. [40 41 42 43]\n",
    "\n",
    "print(\"\\n\")\n",
    "for row in b :\n",
    "    print(row)\n",
    "    \n",
    "print(\"\\n\")\n",
    "for element in b.flat :\n",
    "    print(element)"
   ]
  },
  {
   "cell_type": "code",
   "execution_count": 59,
   "metadata": {},
   "outputs": [
    {
     "name": "stdout",
     "output_type": "stream",
     "text": [
      "[[8. 7. 5. 1.]\n",
      " [1. 7. 3. 2.]\n",
      " [0. 4. 0. 6.]]\n",
      "[8. 7. 5. 1. 1. 7. 3. 2. 0. 4. 0. 6.]\n",
      "[[8. 7.]\n",
      " [5. 1.]\n",
      " [1. 7.]\n",
      " [3. 2.]\n",
      " [0. 4.]\n",
      " [0. 6.]]\n",
      "[[8. 1. 0.]\n",
      " [7. 7. 4.]\n",
      " [5. 3. 0.]\n",
      " [1. 2. 6.]]\n",
      "(4, 3)\n",
      "(3, 4)\n"
     ]
    }
   ],
   "source": [
    "import numpy as np\n",
    "\n",
    "rg= np.random.default_rng() # generate random int\n",
    "a = np.floor(10*rg.random((3,4)))\n",
    "print(a) \n",
    "# floor : 각 원소 값보다 작거나 같은 가장 큰 정수 값 (바닥 값) 으로 내림\n",
    "\n",
    "\n",
    "print(a.ravel()) # return flattened array\n",
    "print(a.reshape(6,2)) \n",
    "print(a.T) # transposed\n",
    "\n",
    "print(a.T.shape) # (4,3)\n",
    "print(a.shape) # (3,4)"
   ]
  },
  {
   "cell_type": "code",
   "execution_count": 71,
   "metadata": {},
   "outputs": [
    {
     "name": "stdout",
     "output_type": "stream",
     "text": [
      "[[7. 7.]\n",
      " [5. 0.]]\n",
      "[[0. 3.]\n",
      " [7. 3.]]\n",
      "\n",
      "\n",
      "[[7. 7.]\n",
      " [5. 0.]\n",
      " [0. 3.]\n",
      " [7. 3.]]\n",
      "[[7. 7. 0. 3.]\n",
      " [5. 0. 7. 3.]]\n"
     ]
    }
   ],
   "source": [
    "import numpy as np\n",
    "\n",
    "rg = np.random.default_rng() \n",
    "\n",
    "a = np.floor(10*rg.random((2,2)))\n",
    "b = np.floor(10*rg.random((2,2)))\n",
    "\n",
    "print(a)\n",
    "print(b)\n",
    "\n",
    "print('\\n')\n",
    "print(np.vstack((a,b)))\n",
    "print(np.hstack((a,b)))"
   ]
  },
  {
   "cell_type": "code",
   "execution_count": 65,
   "metadata": {},
   "outputs": [
    {
     "name": "stdout",
     "output_type": "stream",
     "text": [
      "[[7. 2.]\n",
      " [9. 6.]]\n",
      "[[4. 7.]\n",
      " [4. 1.]]\n",
      "[[7. 2. 4. 7.]\n",
      " [9. 6. 4. 1.]]\n"
     ]
    }
   ],
   "source": [
    "import numpy as np\n",
    "from numpy import newaxis\n",
    "\n",
    "rg = np.random.default_rng() \n",
    "\n",
    "a = np.floor(10*rg.random((2,2)))\n",
    "b = np.floor(10*rg.random((2,2)))\n",
    "\n",
    "print(a)\n",
    "print(b)\n",
    "\n",
    "print(np.column_stack((a,b)))"
   ]
  },
  {
   "cell_type": "code",
   "execution_count": 85,
   "metadata": {},
   "outputs": [
    {
     "name": "stdout",
     "output_type": "stream",
     "text": [
      "[[ 0  1  2  3]\n",
      " [ 4  5  6  7]\n",
      " [ 8  9 10 11]]\n",
      "True\n",
      "False\n",
      "[[ 1  2]\n",
      " [ 5  6]\n",
      " [ 9 10]]\n",
      "[[ 0 10 10  3]\n",
      " [ 4 10 10  7]\n",
      " [ 8 10 10 11]]\n",
      "False\n",
      "False\n",
      "[[ 0 10 10  3]\n",
      " [ 4 10 10  7]\n",
      " [ 8 10 10 11]]\n"
     ]
    }
   ],
   "source": [
    "import numpy as np\n",
    "from numpy import newaxis\n",
    "\n",
    "a = np.arange(12).reshape(3,4)\n",
    "print(a)\n",
    "\n",
    "b = a\n",
    "print(b is a) # True\n",
    "\n",
    "# Shallow copy\n",
    "c = a.view \n",
    "print(c is a) # False\n",
    "\n",
    "s = a[ : , 1:3]\n",
    "print(s)\n",
    "\n",
    "s[ : ] = 10\n",
    "print(a)\n",
    "\n",
    "# Deep copy\n",
    "d = a.copy()\n",
    "print(d is a) # False\n",
    "print(d.base is a) # False\n",
    "\n",
    "d[0,0] = 9999\n",
    "print(a) # not change!"
   ]
  },
  {
   "cell_type": "code",
   "execution_count": 88,
   "metadata": {},
   "outputs": [
    {
     "name": "stdout",
     "output_type": "stream",
     "text": [
      "[ 1  1  9 64 25]\n",
      "[[ 9 16]\n",
      " [81 49]]\n"
     ]
    }
   ],
   "source": [
    "import numpy as np\n",
    "\n",
    "a = np.arange(12)**2\n",
    "i = np.array([1,1,3,8,5]) # array의 index\n",
    "\n",
    "print(a[i]) # [1 1 9 64 25]\n",
    "\n",
    "j = np.array([[3,4],[9,7]])\n",
    "print(a[j]) # [[9 16] [81 49]]"
   ]
  },
  {
   "cell_type": "code",
   "execution_count": 89,
   "metadata": {},
   "outputs": [
    {
     "name": "stdout",
     "output_type": "stream",
     "text": [
      "[[[  0   0   0]\n",
      "  [255   0   0]\n",
      "  [  0 255   0]\n",
      "  [  0   0   0]]\n",
      "\n",
      " [[  0   0   0]\n",
      "  [  0   0 255]\n",
      "  [255 255 255]\n",
      "  [  0   0   0]]]\n"
     ]
    }
   ],
   "source": [
    "import numpy as np\n",
    "\n",
    "palette = np.array([[0,0,0], # black\n",
    "                            [255,0,0], # red\n",
    "                            [0,255,0], # green\n",
    "                            [0,0,255], # blue\n",
    "                            [255,255,255]]) # white\n",
    "\n",
    "image = np.array([[0,1,2,0],\n",
    "                             [0,3,4,0]])\n",
    "\n",
    "print(palette[image])"
   ]
  },
  {
   "cell_type": "code",
   "execution_count": 93,
   "metadata": {},
   "outputs": [
    {
     "name": "stdout",
     "output_type": "stream",
     "text": [
      "[ 20.    51.25  82.5  113.75 145.  ]\n",
      "[[ 0.          0.84147098  0.90929743  0.14112001]\n",
      " [-0.7568025  -0.95892427 -0.2794155   0.6569866 ]\n",
      " [ 0.98935825  0.41211849 -0.54402111 -0.99999021]\n",
      " [-0.53657292  0.42016704  0.99060736  0.65028784]\n",
      " [-0.28790332 -0.96139749 -0.75098725  0.14987721]]\n",
      "[2 0 3 1]\n",
      "[ 82.5   20.   113.75  51.25]\n",
      "[0.98935825 0.84147098 0.99060736 0.6569866 ]\n"
     ]
    }
   ],
   "source": [
    "import numpy as np\n",
    "\n",
    "time = np.linspace(20,145,5)\n",
    "data = np.sin(np.arange(20)).reshape(5,4)\n",
    "\n",
    "print(time)\n",
    "print(data)\n",
    "\n",
    "ind = data.argmax(axis=0) # max index\n",
    "print(ind) # [2,0,3,1]\n",
    "\n",
    "time_max = time[ind]\n",
    "data_max = data[ind, range(data.shape[1])]\n",
    "print(time_max)\n",
    "print(data_max)"
   ]
  },
  {
   "cell_type": "code",
   "execution_count": 96,
   "metadata": {},
   "outputs": [
    {
     "name": "stdout",
     "output_type": "stream",
     "text": [
      "[[False False False False]\n",
      " [False  True  True  True]\n",
      " [ True  True  True  True]]\n",
      "[ 5  6  7  8  9 10 11]\n",
      "[[0 1 2 3]\n",
      " [4 0 0 0]\n",
      " [0 0 0 0]]\n"
     ]
    }
   ],
   "source": [
    "import numpy as np\n",
    "\n",
    "a = np.arange(12).reshape(3,4)\n",
    "b = a>4\n",
    "\n",
    "print(b)\n",
    "\n",
    "print(a[b])\n",
    "\n",
    "a[b] = 0\n",
    "print(a)"
   ]
  },
  {
   "cell_type": "code",
   "execution_count": 101,
   "metadata": {},
   "outputs": [
    {
     "data": {
      "text/plain": [
       "<matplotlib.image.AxesImage at 0x11bf27810>"
      ]
     },
     "execution_count": 101,
     "metadata": {},
     "output_type": "execute_result"
    },
    {
     "data": {
      "image/png": "[encoded data removed]",
      "text/plain": [
       "<Figure size 432x288 with 1 Axes>"
      ]
     },
     "metadata": {
      "needs_background": "light"
     },
     "output_type": "display_data"
    }
   ],
   "source": [
    "import numpy as np\n",
    "import matplotlib.pyplot as plt\n",
    "\n",
    "def mandelbrot(h,w, maxit=20):\n",
    "    y,x = np.ogrid[-1.4:1.4:h*1j, -2:0.8:w*1j]\n",
    "    c = x + y + 1j\n",
    "    z = c\n",
    "    divtime = maxit + np.zeros(z.shape, dtype=int)\n",
    "    \n",
    "    for i in range(maxit):\n",
    "        z = z**2 + c\n",
    "        diverge = z*np.conj(z) > 2**2\n",
    "        div_now = diverge & (divtime==maxit)\n",
    "        divtime[div_now] = i\n",
    "        z[diverge] = 2\n",
    "    \n",
    "    return divtime\n",
    "\n",
    "plt.imshow(mandelbrot(500,500))\n"
   ]
  },
  {
   "cell_type": "code",
   "execution_count": 105,
   "metadata": {},
   "outputs": [
    {
     "name": "stdout",
     "output_type": "stream",
     "text": [
      "[[ 0  1  2  3]\n",
      " [ 4  5  6  7]\n",
      " [ 8  9 10 11]]\n",
      "[[ 4  5  6  7]\n",
      " [ 8  9 10 11]]\n",
      "[[ 0  2]\n",
      " [ 4  6]\n",
      " [ 8 10]]\n",
      "[ 4 10]\n"
     ]
    }
   ],
   "source": [
    "import numpy as np\n",
    "\n",
    "a = np.arange(12).reshape(3,4)\n",
    "b1 = np.array([False, True, True])\n",
    "b2 = np.array([True,False,True,False])\n",
    "\n",
    "print(a)\n",
    "print(a[b1, :])\n",
    "print(a[:, b2])\n",
    "print(a[b1,b2])"
   ]
  },
  {
   "cell_type": "code",
   "execution_count": 109,
   "metadata": {},
   "outputs": [
    {
     "name": "stdout",
     "output_type": "stream",
     "text": [
      "[[[42 34 50 66 26]\n",
      "  [27 22 32 42 17]\n",
      "  [22 18 26 34 14]]\n",
      "\n",
      " [[43 35 51 67 27]\n",
      "  [28 23 33 43 18]\n",
      "  [23 19 27 35 15]]\n",
      "\n",
      " [[44 36 52 68 28]\n",
      "  [29 24 34 44 19]\n",
      "  [24 20 28 36 16]]\n",
      "\n",
      " [[45 37 53 69 29]\n",
      "  [30 25 35 45 20]\n",
      "  [25 21 29 37 17]]]\n"
     ]
    }
   ],
   "source": [
    "import numpy as np\n",
    "\n",
    "a = np.array([2,3,4,5])\n",
    "b = np.array([8,5,4])\n",
    "c = np.array([5,4,6,8,3])\n",
    "\n",
    "ax, bx, cx = np.ix_(a,b,c)\n",
    "\n",
    "result = ax+bx*cx\n",
    "print(result)"
   ]
  },
  {
   "cell_type": "code",
   "execution_count": 112,
   "metadata": {},
   "outputs": [
    {
     "name": "stdout",
     "output_type": "stream",
     "text": [
      "[[1. 2.]\n",
      " [3. 4.]]\n",
      "[[1. 3.]\n",
      " [2. 4.]]\n",
      "[[-2.   1. ]\n",
      " [ 1.5 -0.5]]\n"
     ]
    }
   ],
   "source": [
    "import numpy as np\n",
    "\n",
    "a = np.array([[1.0,2.0], [3.0,4.0]])\n",
    "print(a)\n",
    "\n",
    "print(a.transpose())"
   ]
  },
  {
   "cell_type": "code",
   "execution_count": 117,
   "metadata": {},
   "outputs": [
    {
     "data": {
      "text/plain": [
       "[<matplotlib.lines.Line2D at 0x11caf9d90>]"
      ]
     },
     "execution_count": 117,
     "metadata": {},
     "output_type": "execute_result"
    },
    {
     "data": {
      "image/png": "[encoded data removed]",
      "text/plain": [
       "<Figure size 432x288 with 1 Axes>"
      ]
     },
     "metadata": {
      "needs_background": "light"
     },
     "output_type": "display_data"
    }
   ],
   "source": [
    "import numpy as np\n",
    "import matplotlib.pyplot as plt\n",
    "\n",
    "rg = np.random.default_rng(1)\n",
    "mu, sigma = 2, 0.5\n",
    "v = rg.normal(mu,sigma, 10000)\n",
    "\n",
    "plt.hist(v, bins=50, density=1)\n",
    "\n",
    "(n,bins) = np.histogram(v, bins=50, density=True)\n",
    "plt.plot(.5*(bins[1:]+bins[:-1]),n)"
   ]
  },
  {
   "cell_type": "code",
   "execution_count": null,
   "metadata": {},
   "outputs": [],
   "source": []
  }
 ],
 "metadata": {
  "kernelspec": {
   "display_name": "Python 3",
   "language": "python",
   "name": "python3"
  },
  "language_info": {
   "codemirror_mode": {
    "name": "ipython",
    "version": 3
   },
   "file_extension": ".py",
   "mimetype": "text/x-python",
   "name": "python",
   "nbconvert_exporter": "python",
   "pygments_lexer": "ipython3",
   "version": "3.7.6"
  }
 },
 "nbformat": 4,
 "nbformat_minor": 4
}
